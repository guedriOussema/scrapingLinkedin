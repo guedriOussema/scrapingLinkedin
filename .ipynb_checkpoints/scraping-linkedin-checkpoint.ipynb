{
 "cells": [
  {
   "cell_type": "code",
   "execution_count": 17,
   "metadata": {},
   "outputs": [
    {
     "name": "stdout",
     "output_type": "stream",
     "text": [
      "Importing packages (done)\n"
     ]
    }
   ],
   "source": [
    "from selenium import webdriver\n",
    "from selenium.webdriver.common.keys import Keys\n",
    "from bs4 import BeautifulSoup\n",
    "from time import sleep\n",
    "import csv\n",
    "\n",
    "print('Importing packages (done)')"
   ]
  },
  {
   "cell_type": "code",
   "execution_count": 18,
   "metadata": {},
   "outputs": [
    {
     "name": "stdout",
     "output_type": "stream",
     "text": [
      "Initializing a driver (done)\n",
      "Importing the login credentials (done)\n",
      "Input email (done)\n",
      "Input password (done)\n",
      "Login to Linkedin (done)\n"
     ]
    }
   ],
   "source": [
    "# Login to Linkedin\n",
    "\n",
    "# Open Chrome and Access Linkedin login site\n",
    "driver = webdriver.Chrome(\"C:/Users/guedri/Downloads/chromedriver_win32/chromedriver.exe\")\n",
    "sleep(2)\n",
    "url = 'https://www.linkedin.com/login'\n",
    "driver.get(url)\n",
    "print('Initializing a driver (done)')\n",
    "sleep(2)\n",
    "\n",
    "# Import username and password\n",
    "credential = open('credentials.txt')\n",
    "line = credential.readlines()\n",
    "username = line[0]\n",
    "password = line[1]\n",
    "print('Importing the login credentials (done)')\n",
    "sleep(2)\n",
    "\n",
    "# Input the login credentials\n",
    "email_field = driver.find_element_by_id('username')\n",
    "email_field.send_keys(username)\n",
    "print('Input email (done)')\n",
    "sleep(3)\n",
    "\n",
    "password_field = driver.find_element_by_name('session_password')\n",
    "password_field.send_keys(password)\n",
    "print('Input password (done)')\n",
    "sleep(2)\n",
    "\n",
    "# Click the Login button\n",
    "signin_field = driver.find_element_by_xpath('//*[@id=\"organic-div\"]/form/div[3]/button')\n",
    "signin_field.click()\n",
    "sleep(3)\n",
    "\n",
    "print('Login to Linkedin (done)')"
   ]
  },
  {
   "cell_type": "code",
   "execution_count": 19,
   "metadata": {},
   "outputs": [
    {
     "name": "stdout",
     "output_type": "stream",
     "text": [
      "What profile do you want to scrape? oussema guedri\n",
      "Search for profiles (done)\n"
     ]
    }
   ],
   "source": [
    "# Search for the profiles we want to scrape\n",
    "\n",
    "# Locate the search bar element\n",
    "search_field = driver.find_element_by_xpath('//*[@class=\"search-global-typeahead__input always-show-placeholder\"]')\n",
    "\n",
    "# Input the search query to the search bar\n",
    "search_query = input('What profile do you want to scrape? ')\n",
    "search_field.send_keys(search_query)\n",
    "\n",
    "# Search\n",
    "search_field.send_keys(Keys.RETURN)\n",
    "\n",
    "print('Search for profiles (done)')"
   ]
  },
  {
   "cell_type": "code",
   "execution_count": 20,
   "metadata": {},
   "outputs": [
    {
     "name": "stdout",
     "output_type": "stream",
     "text": [
      "How many pages you want to scrape: 1\n",
      "['https://www.linkedin.com/in/oussema-guedri', 'https://www.linkedin.com/in/oussema-guedri-4b4b5262', 'https://www.linkedin.com/in/ACoAACnFaJ8BKdNenhXDV4xEEIleRdyTI3wxMLc']\n",
      "Scrape the URLs (done)\n"
     ]
    }
   ],
   "source": [
    "# Scrape the URLs of the profiles\n",
    "\n",
    "# A function to extract the URLs of one page\n",
    "def GetURL():\n",
    "    page_source = BeautifulSoup(driver.page_source)\n",
    "    profiles = page_source.find_all('a', class_ = 'app-aware-link')\n",
    "    all_profile_URL = []\n",
    "    for profile in profiles:\n",
    "        profile_URL = profile.get('href')\n",
    "        if \"https://www.linkedin.com/in/\" in profile_URL and \"/recent-activity/\" not in profile_URL:\n",
    "            if profile_URL not in all_profile_URL:\n",
    "                all_profile_URL.append(profile_URL)\n",
    "    return all_profile_URL\n",
    "\n",
    "# Navigate through many pages, and extract the profile URLs of each page\n",
    "\n",
    "input_page = int(input('How many pages you want to scrape: '))\n",
    "URLs_all_page = []\n",
    "\n",
    "if(input_page > 1):\n",
    "    for page in range(input_page):\n",
    "        URLs_one_page = GetURL()\n",
    "        sleep(2)\n",
    "        driver.execute_script('window.scrollTo(0, document.body.scrollHeight);') #scroll to the end of the page\n",
    "        sleep(3)\n",
    "        next_button = driver.find_element_by_class_name('artdeco-pagination__button--next')\n",
    "        driver.execute_script(\"arguments[0].click();\", next_button)\n",
    "        URLs_all_page = URLs_all_page + URLs_one_page\n",
    "        sleep(2)\n",
    "else:\n",
    "    URLs_one_page = GetURL()\n",
    "    sleep(2)\n",
    "    driver.execute_script('window.scrollTo(0, document.body.scrollHeight);') #scroll to the end of the page\n",
    "    sleep(3)\n",
    "    URLs_all_page = URLs_all_page + URLs_one_page\n",
    "    sleep(2)\n",
    "print(URLs_all_page)\n",
    "print('Scrape the URLs (done)')"
   ]
  },
  {
   "cell_type": "code",
   "execution_count": 23,
   "metadata": {},
   "outputs": [
    {
     "name": "stdout",
     "output_type": "stream",
     "text": [
      "Accessing profile:  https://www.linkedin.com/in/oussema-guedri\n",
      "Oussema GUEDRI\n",
      "HackUp\n",
      "Data Science Intern chez HackUp\n",
      "['Deep learning', 'Machine Learning', 'Full-Stack JS Web Development']\n",
      "Accessing profile:  https://www.linkedin.com/in/oussema-guedri-4b4b5262\n",
      "Oussema GUEDRI\n",
      "CFAO\n",
      "ERP Project Manager - CFAO\n",
      "['Navision', 'ERP', 'Diva']\n",
      "Accessing profile:  https://www.linkedin.com/in/ACoAACnFaJ8BKdNenhXDV4xEEIleRdyTI3wxMLc\n",
      "Oussema GUEDRI\n",
      "HackUp\n",
      "Data Science Intern chez HackUp\n",
      "['Deep learning', 'Machine Learning', 'Full-Stack JS Web Development']\n"
     ]
    }
   ],
   "source": [
    "# Scrape the data of 1 Linkedin profile, and write the data to a .CSV file\n",
    "\n",
    "with open('output.csv', 'w',  newline = '') as file_output:\n",
    "    headers = ['Name', 'Company', 'Job Title', 'Skills', 'URL']\n",
    "    writer = csv.DictWriter(file_output, delimiter=',', lineterminator='\\n',fieldnames=headers)\n",
    "    writer.writeheader()\n",
    "    for linkedin_URL in URLs_all_page:\n",
    "        driver.get(linkedin_URL)\n",
    "        print('Accessing profile: ', linkedin_URL)\n",
    "\n",
    "        \n",
    "        name = driver.find_element_by_xpath(\"//h1[@class='text-heading-xlarge inline t-24 v-align-middle break-words']\").text\n",
    "        company = driver.find_element_by_xpath(\"//h2[@class='text-heading-small align-self-center flex-1']\").text\n",
    "        profile_bio = driver.find_element_by_xpath(\"//div[@class='text-body-medium break-words']\").text\n",
    "        \n",
    "        sleep(3)\n",
    "        driver.execute_script(\"window.scrollTo(0, 1000)\")\n",
    "        \n",
    "        sleep(5)\n",
    "        skills_list = []\n",
    "        skills = driver.find_elements_by_xpath(\"//span[@class='pv-skill-category-entity__name-text t-16 t-black t-bold']\")\n",
    "        for s in skills:\n",
    "            skills_list.append(s.text)\n",
    "        \n",
    "        print(name)\n",
    "        print(company)\n",
    "        print(profile_bio)\n",
    "        print(skills_list)\n",
    "        \n",
    "        writer.writerow({headers[0]:name, headers[1]:company, headers[2]:profile_bio, headers[3]:skills_list, headers[4]:linkedin_URL})\n",
    "    \n",
    "    print('Linkedin scraping (done)')"
   ]
  },
  {
   "cell_type": "code",
   "execution_count": null,
   "metadata": {},
   "outputs": [],
   "source": []
  }
 ],
 "metadata": {
  "kernelspec": {
   "display_name": "Python 3",
   "language": "python",
   "name": "python3"
  },
  "language_info": {
   "codemirror_mode": {
    "name": "ipython",
    "version": 3
   },
   "file_extension": ".py",
   "mimetype": "text/x-python",
   "name": "python",
   "nbconvert_exporter": "python",
   "pygments_lexer": "ipython3",
   "version": "3.8.8"
  }
 },
 "nbformat": 4,
 "nbformat_minor": 4
}

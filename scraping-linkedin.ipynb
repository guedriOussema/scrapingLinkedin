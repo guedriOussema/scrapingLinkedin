{
 "cells": [
  {
   "cell_type": "code",
   "execution_count": 1,
   "metadata": {},
   "outputs": [
    {
     "name": "stdout",
     "output_type": "stream",
     "text": [
      "Importing packages (done)\n"
     ]
    }
   ],
   "source": [
    "from selenium import webdriver\n",
    "from selenium.webdriver.common.keys import Keys\n",
    "from bs4 import BeautifulSoup\n",
    "from time import sleep\n",
    "import csv\n",
    "\n",
    "print('Importing packages (done)')"
   ]
  },
  {
   "cell_type": "code",
   "execution_count": 2,
   "metadata": {},
   "outputs": [
    {
     "name": "stdout",
     "output_type": "stream",
     "text": [
      "Initializing a driver (done)\n",
      "Importing the login credentials (done)\n",
      "Input email (done)\n",
      "Input password (done)\n",
      "Login to Linkedin (done)\n"
     ]
    }
   ],
   "source": [
    "# Login to Linkedin\n",
    "\n",
    "# Open Chrome and Access Linkedin login site\n",
    "driver = webdriver.Chrome(\"C:/Users/guedri/Downloads/chromedriver_win32/chromedriver.exe\")\n",
    "sleep(2)\n",
    "url = 'https://www.linkedin.com/login'\n",
    "driver.get(url)\n",
    "print('Initializing a driver (done)')\n",
    "sleep(2)\n",
    "\n",
    "# Import username and password\n",
    "credential = open('credentials.txt')\n",
    "line = credential.readlines()\n",
    "username = line[0]\n",
    "password = line[1]\n",
    "print('Importing the login credentials (done)')\n",
    "sleep(2)\n",
    "\n",
    "# Input the login credentials\n",
    "email_field = driver.find_element_by_id('username')\n",
    "email_field.send_keys(username)\n",
    "print('Input email (done)')\n",
    "sleep(3)\n",
    "\n",
    "password_field = driver.find_element_by_name('session_password')\n",
    "password_field.send_keys(password)\n",
    "print('Input password (done)')\n",
    "sleep(2)\n",
    "\n",
    "# Click the Login button\n",
    "signin_field = driver.find_element_by_xpath('//*[@id=\"organic-div\"]/form/div[3]/button')\n",
    "signin_field.click()\n",
    "sleep(3)\n",
    "\n",
    "print('Login to Linkedin (done)')"
   ]
  },
  {
   "cell_type": "code",
   "execution_count": 3,
   "metadata": {},
   "outputs": [
    {
     "name": "stdout",
     "output_type": "stream",
     "text": [
      "What profile do you want to scrape? software engineer\n",
      "Search for profiles (done)\n"
     ]
    }
   ],
   "source": [
    "# Search for the profiles we want to scrape\n",
    "\n",
    "# Locate the search bar element\n",
    "search_field = driver.find_element_by_xpath('//*[@class=\"search-global-typeahead__input always-show-placeholder\"]')\n",
    "\n",
    "# Input the search query to the search bar\n",
    "search_query = input('What profile do you want to scrape? ')\n",
    "search_field.send_keys(search_query)\n",
    "\n",
    "# Search\n",
    "search_field.send_keys(Keys.RETURN)\n",
    "\n",
    "print('Search for profiles (done)')"
   ]
  },
  {
   "cell_type": "code",
   "execution_count": 4,
   "metadata": {},
   "outputs": [
    {
     "name": "stdout",
     "output_type": "stream",
     "text": [
      "How many pages you want to scrape: 3\n",
      "['https://www.linkedin.com/in/chaima-amri-20b1b9151', 'https://www.linkedin.com/in/ACoAADQeB3UB_dszV3t0BDY_BnYm8wW1ExWhiBU', 'https://www.linkedin.com/in/ACoAADJ76vYBzMcQQvdQ-lDm-jZyOP7A_IMNXfE', 'https://www.linkedin.com/in/zayneb-hammami', 'https://www.linkedin.com/in/ACoAADAMf40BAw04GvLSs_ED9mHofIVTFfvSBDM', 'https://www.linkedin.com/in/medwaeldraoui', 'https://www.linkedin.com/in/ACoAAC2k4kYB0XlrePfBruWacEp6eriYe5GI7OA', 'https://www.linkedin.com/in/ACoAAC15jewBPkOckIWhUQ_vlodeDt0OzOpcQEY', 'https://www.linkedin.com/in/ACoAAClW_KQBlX-4rr6YawaQM7qrfmZ0KipyvAk', 'https://www.linkedin.com/in/ACoAAAoFpeEBFXD6V1iLOwGuuZdXtroWv6-Xc1g', 'https://www.linkedin.com/in/shiraz-hasni-96489613a', 'https://www.linkedin.com/in/ACoAAC588coBQXtoRn_aa2PQs6hEIH26hOvtLl0', 'https://www.linkedin.com/in/ACoAAC5WRP4BETh1Ye64ILDqQwIq1GfAtfB3ev8', 'https://www.linkedin.com/in/rzaigui-amani-2252a2140', 'https://www.linkedin.com/in/ACoAACRrtD0B4o_KTdGhIvW09AUw41q1KZ3_u7c', 'https://www.linkedin.com/in/ACoAACQOJMsBbhP65VDlpzzVNvmVAsnbykMIxaE', 'https://www.linkedin.com/in/norchene-belhassen-7182b611b', 'https://www.linkedin.com/in/ACoAACEosPAB6aXm9GwDRJKBSMhKjywzdJ9VtGo', 'https://www.linkedin.com/in/ACoAACET6ywB0JfgIjHiBbx8rRbdm6NFnU0Sw_I', 'https://www.linkedin.com/in/loujaine-dkhil', 'https://www.linkedin.com/in/ACoAACdbaYgB575cMX07mdQPy6KeRTbHxmT_juI', 'https://www.linkedin.com/in/ACoAACamtNABLdKfoz_0NMBc4YNevBJreVhz5MA', 'https://www.linkedin.com/in/souhir-faleh-b19277114', 'https://www.linkedin.com/in/ACoAADEHQYkB1J-DYy3_YP_N-2kt8Un_YG8HuX4', 'https://www.linkedin.com/in/ACoAACfXmgsBnivw4UzepYud7WJqx1YOJ77EWD0', 'https://www.linkedin.com/in/malak-zitouni-b7a691104', 'https://www.linkedin.com/in/ACoAAB8Ax5wBC9eVmY2hM9qhl5ROecYMACoDbdI', 'https://www.linkedin.com/in/ACoAAB7QHToBRfJBeWUcqkAXZx3_BL22H2Xi8Ww', 'https://www.linkedin.com/in/ladjimi-ghazi-2b7776184', 'https://www.linkedin.com/in/ACoAACVvJggBj27aEp99d8gRSGyOewUIu3D677c', 'https://www.linkedin.com/in/ACoAACVQqxABkYILE2MKm8pXzizoJH4FhHikmhs', 'https://www.linkedin.com/in/salma-hassayoune-3a1695105', 'https://www.linkedin.com/in/ACoAADJ76vYBzMcQQvdQ-lDm-jZyOP7A_IMNXfE', 'https://www.linkedin.com/in/ACoAAC9rGg4BcUA0atFiYKssSsLlSFjDbGLwCKc', 'https://www.linkedin.com/in/wafa-bsila-270442111', 'https://www.linkedin.com/in/ACoAADRk7PEBMIC1LUNnhiwm-M5QQ0Hbyy9bxt0', 'https://www.linkedin.com/in/ACoAAC5WRP4BETh1Ye64ILDqQwIq1GfAtfB3ev8', 'https://www.linkedin.com/in/erij-bentej', 'https://www.linkedin.com/in/ACoAACb7vzYBfURiZO6kCuPSJsC9s5-SpqVxjYE', 'https://www.linkedin.com/in/ACoAACbxL7oBae-5WcPbgqcyvr8XTRDSJOQ4prk', 'https://www.linkedin.com/in/slim-aouadi-a241b4111', 'https://www.linkedin.com/in/ACoAAC7QXbQB4Qh_fECeUay13Uu_Ax1yym5R_nU', 'https://www.linkedin.com/in/ACoAACp-am4BcDXKwD43atSEoJWjYaoE2zqRa0Q', 'https://www.linkedin.com/in/farah-abid-829a60141', 'https://www.linkedin.com/in/ACoAACeoieABXTgaFiudj3E5xj9D-u7-64fFcp0', 'https://www.linkedin.com/in/ACoAACWb8ccBMN_fvG76XVX28xmGiAAD7fXZMuc', 'https://www.linkedin.com/in/houda-ben-hamouda-933157126', 'https://www.linkedin.com/in/ACoAAC9dblYBgDUCjDZktj9vPPIwa-Ry2_icl2g', 'https://www.linkedin.com/in/ben-khalifa-houssem-eddine', 'https://www.linkedin.com/in/ACoAADSiWlMBAq_qG84wNqjUIRG1A0D0kXJmAPg', 'https://www.linkedin.com/in/melek-krichen-64127114b', 'https://www.linkedin.com/in/ACoAADEHQYkB1J-DYy3_YP_N-2kt8Un_YG8HuX4', 'https://www.linkedin.com/in/ACoAAC2k4kYB0XlrePfBruWacEp6eriYe5GI7OA', 'https://www.linkedin.com/in/omar-mnif-836420170', 'https://www.linkedin.com/in/ACoAADKsEQwBLwrTQyoOzpqS56FaGx3RXlhS0J4', 'https://www.linkedin.com/in/ACoAADKouPsBfgweTebSVQvwdYRoYFNLDVSLdMM', 'https://www.linkedin.com/in/hassen-gahbiche', 'https://www.linkedin.com/in/ACoAAC15jewBPkOckIWhUQ_vlodeDt0OzOpcQEY', 'https://www.linkedin.com/in/ACoAAC0reGUBWDtumejBKXderjZPKZs_Gy1V3o0']\n",
      "Scrape the URLs (done)\n"
     ]
    }
   ],
   "source": [
    "# Scrape the URLs of the profiles\n",
    "\n",
    "# A function to extract the URLs of one page\n",
    "def GetURL():\n",
    "    page_source = BeautifulSoup(driver.page_source)\n",
    "    profiles = page_source.find_all('a', class_ = 'app-aware-link')\n",
    "    all_profile_URL = []\n",
    "    for profile in profiles:\n",
    "        profile_URL = profile.get('href')\n",
    "        if \"https://www.linkedin.com/in/\" in profile_URL:\n",
    "            if profile_URL not in all_profile_URL:\n",
    "                all_profile_URL.append(profile_URL)\n",
    "    return all_profile_URL\n",
    "\n",
    "# Navigate through many pages, and extract the profile URLs of each page\n",
    "\n",
    "input_page = int(input('How many pages you want to scrape: '))\n",
    "URLs_all_page = []\n",
    "\n",
    "if(input_page > 1):\n",
    "    for page in range(input_page):\n",
    "        URLs_one_page = GetURL()\n",
    "        sleep(2)\n",
    "        driver.execute_script('window.scrollTo(0, document.body.scrollHeight);') #scroll to the end of the page\n",
    "        sleep(3)\n",
    "        next_button = driver.find_element_by_class_name('artdeco-pagination__button--next')\n",
    "        driver.execute_script(\"arguments[0].click();\", next_button)\n",
    "        URLs_all_page = URLs_all_page + URLs_one_page\n",
    "        sleep(2)\n",
    "else:\n",
    "    URLs_one_page = GetURL()\n",
    "    sleep(2)\n",
    "    driver.execute_script('window.scrollTo(0, document.body.scrollHeight);') #scroll to the end of the page\n",
    "    sleep(3)\n",
    "    URLs_all_page = URLs_all_page + URLs_one_page\n",
    "    sleep(2)\n",
    "print(URLs_all_page)\n",
    "print('Scrape the URLs (done)')"
   ]
  },
  {
   "cell_type": "code",
   "execution_count": 5,
   "metadata": {},
   "outputs": [
    {
     "name": "stdout",
     "output_type": "stream",
     "text": [
      "Accessing profile:  https://www.linkedin.com/in/chaima-amri-20b1b9151\n"
     ]
    },
    {
     "ename": "AttributeError",
     "evalue": "'NoneType' object has no attribute 'find'",
     "output_type": "error",
     "traceback": [
      "\u001b[1;31m---------------------------------------------------------------------------\u001b[0m",
      "\u001b[1;31mAttributeError\u001b[0m                            Traceback (most recent call last)",
      "\u001b[1;32m<ipython-input-5-d3d8b9905615>\u001b[0m in \u001b[0;36m<module>\u001b[1;34m\u001b[0m\n\u001b[0;32m     13\u001b[0m         \u001b[0minfo_div\u001b[0m \u001b[1;33m=\u001b[0m \u001b[0mpage_source\u001b[0m\u001b[1;33m.\u001b[0m\u001b[0mfind\u001b[0m\u001b[1;33m(\u001b[0m\u001b[1;34m'div'\u001b[0m\u001b[1;33m,\u001b[0m\u001b[1;33m{\u001b[0m\u001b[1;34m'class'\u001b[0m\u001b[1;33m:\u001b[0m\u001b[1;34m'flex-1 mr5'\u001b[0m\u001b[1;33m}\u001b[0m\u001b[1;33m)\u001b[0m\u001b[1;33m\u001b[0m\u001b[1;33m\u001b[0m\u001b[0m\n\u001b[0;32m     14\u001b[0m \u001b[1;33m\u001b[0m\u001b[0m\n\u001b[1;32m---> 15\u001b[1;33m         \u001b[0mname\u001b[0m \u001b[1;33m=\u001b[0m \u001b[0minfo_div\u001b[0m\u001b[1;33m.\u001b[0m\u001b[0mfind\u001b[0m\u001b[1;33m(\u001b[0m\u001b[1;34m'li'\u001b[0m\u001b[1;33m,\u001b[0m \u001b[0mclass_\u001b[0m\u001b[1;33m=\u001b[0m\u001b[1;34m'inline t-24 t-black t-normal break-words'\u001b[0m\u001b[1;33m)\u001b[0m\u001b[1;33m.\u001b[0m\u001b[0mget_text\u001b[0m\u001b[1;33m(\u001b[0m\u001b[1;33m)\u001b[0m\u001b[1;33m.\u001b[0m\u001b[0mstrip\u001b[0m\u001b[1;33m(\u001b[0m\u001b[1;33m)\u001b[0m \u001b[1;31m#Remove unnecessary characters\u001b[0m\u001b[1;33m\u001b[0m\u001b[1;33m\u001b[0m\u001b[0m\n\u001b[0m\u001b[0;32m     16\u001b[0m         \u001b[0mprint\u001b[0m\u001b[1;33m(\u001b[0m\u001b[1;34m'--- Profile name is: '\u001b[0m\u001b[1;33m,\u001b[0m \u001b[0mname\u001b[0m\u001b[1;33m)\u001b[0m\u001b[1;33m\u001b[0m\u001b[1;33m\u001b[0m\u001b[0m\n\u001b[0;32m     17\u001b[0m         \u001b[0mlocation\u001b[0m \u001b[1;33m=\u001b[0m \u001b[0minfo_div\u001b[0m\u001b[1;33m.\u001b[0m\u001b[0mfind\u001b[0m\u001b[1;33m(\u001b[0m\u001b[1;34m'li'\u001b[0m\u001b[1;33m,\u001b[0m \u001b[0mclass_\u001b[0m\u001b[1;33m=\u001b[0m\u001b[1;34m't-16 t-black t-normal inline-block'\u001b[0m\u001b[1;33m)\u001b[0m\u001b[1;33m.\u001b[0m\u001b[0mget_text\u001b[0m\u001b[1;33m(\u001b[0m\u001b[1;33m)\u001b[0m\u001b[1;33m.\u001b[0m\u001b[0mstrip\u001b[0m\u001b[1;33m(\u001b[0m\u001b[1;33m)\u001b[0m \u001b[1;31m#Remove unnecessary characters\u001b[0m\u001b[1;33m\u001b[0m\u001b[1;33m\u001b[0m\u001b[0m\n",
      "\u001b[1;31mAttributeError\u001b[0m: 'NoneType' object has no attribute 'find'"
     ]
    }
   ],
   "source": [
    "# Scrape the data of 1 Linkedin profile, and write the data to a .CSV file\n",
    "\n",
    "with open('output.csv', 'w',  newline = '') as file_output:\n",
    "    headers = ['Name', 'Job Title', 'Location', 'URL']\n",
    "    writer = csv.DictWriter(file_output, delimiter=',', lineterminator='\\n',fieldnames=headers)\n",
    "    writer.writeheader()\n",
    "    for linkedin_URL in URLs_all_page:\n",
    "        driver.get(linkedin_URL)\n",
    "        print('Accessing profile: ', linkedin_URL)\n",
    "\n",
    "        page_source = BeautifulSoup(driver.page_source, \"html.parser\")\n",
    "\n",
    "        info_div = page_source.find('div',{'class':'flex-1 mr5'})\n",
    "        \n",
    "        name = info_div.find('li', class_='inline t-24 t-black t-normal break-words').get_text().strip() #Remove unnecessary characters \n",
    "        print('--- Profile name is: ', name)\n",
    "        location = info_div.find('li', class_='t-16 t-black t-normal inline-block').get_text().strip() #Remove unnecessary characters \n",
    "        print('--- Profile location is: ', location)\n",
    "        title = info_div.find('h2', class_='mt1 t-18 t-black t-normal break-words').get_text().strip()\n",
    "        print('--- Profile title is: ', title)\n",
    "        writer.writerow({headers[0]:name, headers[1]:location, headers[2]:title, headers[3]:linkedin_URL})\n",
    "        print('\\n')\n",
    "\n",
    "        \"\"\"\n",
    "        info_loc = info_div.find_all('ul')\n",
    "        name = info_loc[0].find('li').get_text().strip() #Remove unnecessary characters \n",
    "        print('--- Profile name is: ', name)\n",
    "        location = info_loc[1].find('li').get_text().strip() #Remove unnecessary characters \n",
    "        print('--- Profile location is: ', location)\n",
    "        title = info_div.find('h2').get_text().strip()\n",
    "        print('--- Profile title is: ', title)\n",
    "        writer.writerow({headers[0]:name, headers[1]:location, headers[2]:title, headers[3]:linkedin_URL})\n",
    "        print('\\n')\n",
    "        \"\"\"\n",
    "\n",
    "print('Mission Completed!')"
   ]
  },
  {
   "cell_type": "code",
   "execution_count": null,
   "metadata": {},
   "outputs": [],
   "source": []
  }
 ],
 "metadata": {
  "kernelspec": {
   "display_name": "Python 3",
   "language": "python",
   "name": "python3"
  },
  "language_info": {
   "codemirror_mode": {
    "name": "ipython",
    "version": 3
   },
   "file_extension": ".py",
   "mimetype": "text/x-python",
   "name": "python",
   "nbconvert_exporter": "python",
   "pygments_lexer": "ipython3",
   "version": "3.8.8"
  }
 },
 "nbformat": 4,
 "nbformat_minor": 4
}
